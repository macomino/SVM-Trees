{
 "cells": [
  {
   "cell_type": "markdown",
   "metadata": {},
   "source": [
    "# Forecast of Weather Temperatures\n",
    "\n",
    "## Problem Statement\n",
    "\n",
    "We would like to forecast the temperatures if we know the temperature of the previous days"
   ]
  },
  {
   "cell_type": "code",
   "execution_count": 1,
   "metadata": {},
   "outputs": [
    {
     "name": "stdout",
     "output_type": "stream",
     "text": [
      "Populating the interactive namespace from numpy and matplotlib\n"
     ]
    }
   ],
   "source": [
    "%pylab inline"
   ]
  },
  {
   "cell_type": "code",
   "execution_count": 2,
   "metadata": {},
   "outputs": [],
   "source": [
    "import pandas as pd"
   ]
  },
  {
   "cell_type": "code",
   "execution_count": 3,
   "metadata": {},
   "outputs": [],
   "source": [
    "df = pd.read_csv(\"data/GlobalTemperatures.csv\")\n",
    "df=df[[\"dt\",\"LandAverageTemperature\"]]\n",
    "df.columns=[\"date\",\"t0\"]"
   ]
  },
  {
   "cell_type": "code",
   "execution_count": 4,
   "metadata": {},
   "outputs": [
    {
     "data": {
      "image/png": "[encoded data removed]",
      "text/plain": [
       "<matplotlib.figure.Figure at 0x10e154f60>"
      ]
     },
     "metadata": {},
     "output_type": "display_data"
    }
   ],
   "source": [
    "plt.plot(df[\"t0\"].iloc[-24:]);"
   ]
  },
  {
   "cell_type": "code",
   "execution_count": 5,
   "metadata": {},
   "outputs": [],
   "source": [
    "input_col = []\n",
    "for i in range(1,10):\n",
    "    input_col.append(\"t\"+str(i))\n",
    "    df[\"t\"+str(i)]=df[\"t0\"].shift(i)"
   ]
  },
  {
   "cell_type": "code",
   "execution_count": 6,
   "metadata": {},
   "outputs": [],
   "source": [
    "df=df.dropna()"
   ]
  },
  {
   "cell_type": "code",
   "execution_count": 7,
   "metadata": {},
   "outputs": [
    {
     "data": {
      "text/html": [
       "<div>\n",
       "<style>\n",
       "    .dataframe thead tr:only-child th {\n",
       "        text-align: right;\n",
       "    }\n",
       "\n",
       "    .dataframe thead th {\n",
       "        text-align: left;\n",
       "    }\n",
       "\n",
       "    .dataframe tbody tr th {\n",
       "        vertical-align: top;\n",
       "    }\n",
       "</style>\n",
       "<table border=\"1\" class=\"dataframe\">\n",
       "  <thead>\n",
       "    <tr style=\"text-align: right;\">\n",
       "      <th></th>\n",
       "      <th>date</th>\n",
       "      <th>t0</th>\n",
       "      <th>t1</th>\n",
       "      <th>t2</th>\n",
       "      <th>t3</th>\n",
       "      <th>t4</th>\n",
       "      <th>t5</th>\n",
       "      <th>t6</th>\n",
       "      <th>t7</th>\n",
       "      <th>t8</th>\n",
       "      <th>t9</th>\n",
       "    </tr>\n",
       "  </thead>\n",
       "  <tbody>\n",
       "    <tr>\n",
       "      <th>9</th>\n",
       "      <td>1750-10-01</td>\n",
       "      <td>6.367</td>\n",
       "      <td>11.413</td>\n",
       "      <td>14.750</td>\n",
       "      <td>15.868</td>\n",
       "      <td>12.937</td>\n",
       "      <td>11.573</td>\n",
       "      <td>8.490</td>\n",
       "      <td>5.626</td>\n",
       "      <td>3.083</td>\n",
       "      <td>3.034</td>\n",
       "    </tr>\n",
       "    <tr>\n",
       "      <th>42</th>\n",
       "      <td>1753-07-01</td>\n",
       "      <td>15.092</td>\n",
       "      <td>14.585</td>\n",
       "      <td>12.186</td>\n",
       "      <td>8.272</td>\n",
       "      <td>5.424</td>\n",
       "      <td>0.715</td>\n",
       "      <td>2.039</td>\n",
       "      <td>5.086</td>\n",
       "      <td>7.335</td>\n",
       "      <td>7.839</td>\n",
       "    </tr>\n",
       "    <tr>\n",
       "      <th>43</th>\n",
       "      <td>1753-08-01</td>\n",
       "      <td>14.148</td>\n",
       "      <td>15.092</td>\n",
       "      <td>14.585</td>\n",
       "      <td>12.186</td>\n",
       "      <td>8.272</td>\n",
       "      <td>5.424</td>\n",
       "      <td>0.715</td>\n",
       "      <td>2.039</td>\n",
       "      <td>5.086</td>\n",
       "      <td>7.335</td>\n",
       "    </tr>\n",
       "    <tr>\n",
       "      <th>44</th>\n",
       "      <td>1753-09-01</td>\n",
       "      <td>13.322</td>\n",
       "      <td>14.148</td>\n",
       "      <td>15.092</td>\n",
       "      <td>14.585</td>\n",
       "      <td>12.186</td>\n",
       "      <td>8.272</td>\n",
       "      <td>5.424</td>\n",
       "      <td>0.715</td>\n",
       "      <td>2.039</td>\n",
       "      <td>5.086</td>\n",
       "    </tr>\n",
       "    <tr>\n",
       "      <th>45</th>\n",
       "      <td>1753-10-01</td>\n",
       "      <td>8.962</td>\n",
       "      <td>13.322</td>\n",
       "      <td>14.148</td>\n",
       "      <td>15.092</td>\n",
       "      <td>14.585</td>\n",
       "      <td>12.186</td>\n",
       "      <td>8.272</td>\n",
       "      <td>5.424</td>\n",
       "      <td>0.715</td>\n",
       "      <td>2.039</td>\n",
       "    </tr>\n",
       "  </tbody>\n",
       "</table>\n",
       "</div>"
      ],
      "text/plain": [
       "          date      t0      t1      t2      t3      t4      t5     t6     t7  \\\n",
       "9   1750-10-01   6.367  11.413  14.750  15.868  12.937  11.573  8.490  5.626   \n",
       "42  1753-07-01  15.092  14.585  12.186   8.272   5.424   0.715  2.039  5.086   \n",
       "43  1753-08-01  14.148  15.092  14.585  12.186   8.272   5.424  0.715  2.039   \n",
       "44  1753-09-01  13.322  14.148  15.092  14.585  12.186   8.272  5.424  0.715   \n",
       "45  1753-10-01   8.962  13.322  14.148  15.092  14.585  12.186  8.272  5.424   \n",
       "\n",
       "       t8     t9  \n",
       "9   3.083  3.034  \n",
       "42  7.335  7.839  \n",
       "43  5.086  7.335  \n",
       "44  2.039  5.086  \n",
       "45  0.715  2.039  "
      ]
     },
     "execution_count": 7,
     "metadata": {},
     "output_type": "execute_result"
    }
   ],
   "source": [
    "df.head()"
   ]
  },
  {
   "cell_type": "code",
   "execution_count": 8,
   "metadata": {},
   "outputs": [],
   "source": [
    "X=df[input_col]\n",
    "y=df[\"t0\"]"
   ]
  }
 ],
 "metadata": {
  "kernelspec": {
   "display_name": "Python 3",
   "language": "python",
   "name": "python3"
  },
  "language_info": {
   "codemirror_mode": {
    "name": "ipython",
    "version": 3
   },
   "file_extension": ".py",
   "mimetype": "text/x-python",
   "name": "python",
   "nbconvert_exporter": "python",
   "pygments_lexer": "ipython3",
   "version": "3.6.6"
  }
 },
 "nbformat": 4,
 "nbformat_minor": 2
}
